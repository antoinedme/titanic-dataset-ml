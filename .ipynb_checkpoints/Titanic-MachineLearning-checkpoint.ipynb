{
 "cells": [
  {
   "cell_type": "markdown",
   "metadata": {},
   "source": [
    "*Antoine de Marassé*\n",
    "## Titanic dataset discovery\n",
    "\n",
    "RMS Titanic was a British passenger liner operated by the White Star Line that sank in the North Atlantic Ocean in the early morning hours of April 15, 1912, after striking an iceberg during her maiden voyage from Southampton to New York City. Of the estimated 2,224 passengers and crew aboard, more than 1,500 died, making the sinking one of modern history's deadliest peacetime commercial marine disasters. \n",
    "    \n",
    "<img align=\"left\" style=\"padding-right:10px; width: 400px\" src=\"https://media-exp1.licdn.com/dms/image/C4D22AQE50TOapAkZ8w/feedshare-shrink_2048_1536/0?e=1585785600&v=beta&t=6iz2C_g_QqjbZNz9OJn8u_dH9AxwHfacDIpCmPAYJWg\">\n",
    "\n",
    "After leaving Southampton on 10 April 1912, Titanic called at Cherbourg in France and Queenstown (now Cobh) in Ireland, before heading west to New York. On 14 April, four days into the crossing and about 375 miles (600 km) south of Newfoundland, she hit an iceberg at 11:40 p.m. ship's time. The collision caused the hull plates to buckle inwards along her starboard (right) side and opened five of her sixteen watertight compartments to the sea; she could only survive four flooding. Meanwhile, passengers and some crew members were evacuated in lifeboats, many of which were launched only partially loaded. A disproportionate number of men were left aboard because of a \"women and children first\" protocol for loading lifeboats. At 2:20 a.m., she broke apart and foundered with well over one thousand people still aboard. Just under two hours after Titanic sank, the Cunard liner RMS Carpathia arrived and brought aboard an estimated 705 survivors. \n",
    "\n",
    "Install pandas package ```conda install pandas```"
   ]
  },
  {
   "cell_type": "code",
   "execution_count": null,
   "metadata": {},
   "outputs": [],
   "source": [
    "import pandas as pd\n",
    "import numpy as np"
   ]
  },
  {
   "cell_type": "code",
   "execution_count": null,
   "metadata": {},
   "outputs": [],
   "source": [
    "# Load the dataset file into \"titanic\" object\n",
    "titanic = pd.read_csv(\"Titanic-1309-rows-biostatvanderbilt.csv\")\n",
    "\n",
    "# Let's have a look at the dataset attributes\n",
    "titanic.head()"
   ]
  },
  {
   "cell_type": "code",
   "execution_count": null,
   "metadata": {},
   "outputs": [],
   "source": [
    "# until the last value 0-1308 \n",
    "titanic.tail()"
   ]
  },
  {
   "cell_type": "code",
   "execution_count": null,
   "metadata": {},
   "outputs": [],
   "source": [
    "# Let's check the dataset info, variables types and null counts \n",
    "# (pclass, survived, name, sex, sibsp, parch, ticket are complete)\n",
    "# (embarked miss one value, age is incomplete for 263 passengers)\n",
    "titanic.info()"
   ]
  },
  {
   "cell_type": "code",
   "execution_count": null,
   "metadata": {},
   "outputs": [],
   "source": [
    "# Let's get few statistical data from the dataset (and mostly the mean of survivers: 38,19%)\n",
    "titanic.describe()"
   ]
  },
  {
   "cell_type": "markdown",
   "metadata": {},
   "source": [
    "The dataset has 1309 entries. \n",
    "This dataset describes the survival status of individual passengers on the Titanic. The dataset has 10 variables:\n",
    "- `survived`: 0 = No, 1 = Yes. **(As we can see on the table above `survived` mean, 38,19% of passengers survived)**\n",
    "- `pclass`: Ticket class 1 = 1st, 2 = 2nd, 3 = 3rd\n",
    "- Demographics: `Sex`, `Age`\n",
    "- `sibsp`, `parch`: Number of siblings or spouses aboard, number of parents or children aboard\n",
    "- `ticket`: Passenger ticket number\n",
    "- `fare`: Passenger fare\n",
    "- `cabin`: Cabin number\n",
    "- `embarked`: Port of embarkation; C = Cherbourg, Q = Queenstown, S = Southampton"
   ]
  },
  {
   "cell_type": "markdown",
   "metadata": {},
   "source": [
    "## Checking and preparing the data\n",
    "\n",
    "Dropping few columns and checking data values"
   ]
  },
  {
   "cell_type": "code",
   "execution_count": null,
   "metadata": {},
   "outputs": [],
   "source": [
    "titanic.drop(['name','body','boat','cabin','ticket'],axis=1,inplace=True)\n",
    "titanic.head()"
   ]
  },
  {
   "cell_type": "code",
   "execution_count": null,
   "metadata": {},
   "outputs": [],
   "source": [
    "# adding on id column (to replace name)\n",
    "titanic.insert(0, 'id', range(1, 1 + len(titanic)))"
   ]
  },
  {
   "cell_type": "code",
   "execution_count": null,
   "metadata": {},
   "outputs": [],
   "source": [
    "# re-order the columns\n",
    "titanic = titanic[['id','sex','age','sibsp','parch','fare','pclass','embarked','home.dest','survived']]\n",
    "# print the dataframe\n",
    "titanic.head()"
   ]
  },
  {
   "cell_type": "markdown",
   "metadata": {},
   "source": [
    "## Visual Analysis with Seaborn\n",
    "\n",
    "Install Seaborn, statistical data visualization library based on matplotlib: ```conda install seaborn```"
   ]
  },
  {
   "cell_type": "code",
   "execution_count": null,
   "metadata": {},
   "outputs": [],
   "source": [
    "# Use Seaborn to visualize survived male and female per class in grouped barplots\n",
    "import seaborn as sns\n",
    "sns.set(style=\"whitegrid\")\n",
    "\n",
    "# Draw a nested barplot to show survival for class and sex\n",
    "#g = sns.catplot(x=\"pclass\", y=\"survived\", hue=\"sex\", data=titanic, height=5, kind=\"bar\", palette=\"muted\")\n",
    "graph = sns.catplot(x=\"sex\", y=\"survived\", hue=\"pclass\", kind=\"bar\", palette=\"muted\", data=titanic)\n",
    "graph.set_ylabels(\"survival probability\")"
   ]
  },
  {
   "cell_type": "code",
   "execution_count": null,
   "metadata": {},
   "outputs": [],
   "source": [
    "# Duplicating the object for some cleaning and analysis\n",
    "exploratory = titanic\n",
    "exploratory.drop(['id','home.dest','embarked','sibsp'],axis=1,inplace=True)"
   ]
  },
  {
   "cell_type": "code",
   "execution_count": null,
   "metadata": {},
   "outputs": [],
   "source": [
    "# Converting the sex variable into integer\n",
    "exploratory['ismale'] = exploratory['sex'].replace(regex='female', value=0)\n",
    "exploratory['sex_is_male'] = exploratory['ismale'].replace(regex='male', value=1)\n",
    "exploratory.drop(['sex','ismale'],axis=1,inplace=True)\n",
    "\n",
    "# re-order the columns\n",
    "exploratory = exploratory[['sex_is_male','age','parch','fare','pclass','survived']]\n",
    "\n",
    "exploratory.head()"
   ]
  },
  {
   "cell_type": "code",
   "execution_count": null,
   "metadata": {},
   "outputs": [],
   "source": [
    "# Draw scatterplots for joint relationships and histograms for univariate distributions:\n",
    "# different levels of a categorical variable by the color of plot elements\n",
    "sns.set(style=\"darkgrid\")  \n",
    "sns.pairplot(exploratory, dropna=True, hue=\"survived\", corner=True, kind=\"reg\")"
   ]
  },
  {
   "cell_type": "markdown",
   "metadata": {},
   "source": [
    "## Split the training and test data\n",
    "\n",
    "Install the scikit-learn - Machine Learning in Python: ```conda install -c intel scikit-learn```\n",
    "- Simple and efficient tools for predictive data analysis\n",
    "- Built on NumPy, SciPy, and matplotlib\n",
    "Link: https://scikit-learn.org/stable/"
   ]
  },
  {
   "cell_type": "code",
   "execution_count": null,
   "metadata": {},
   "outputs": [],
   "source": [
    "from sklearn.model_selection import train_test_split"
   ]
  },
  {
   "cell_type": "code",
   "execution_count": null,
   "metadata": {},
   "outputs": [],
   "source": []
  }
 ],
 "metadata": {
  "kernelspec": {
   "display_name": "Python 3",
   "language": "python",
   "name": "python3"
  },
  "language_info": {
   "codemirror_mode": {
    "name": "ipython",
    "version": 3
   },
   "file_extension": ".py",
   "mimetype": "text/x-python",
   "name": "python",
   "nbconvert_exporter": "python",
   "pygments_lexer": "ipython3",
   "version": "3.7.4"
  }
 },
 "nbformat": 4,
 "nbformat_minor": 4
}
